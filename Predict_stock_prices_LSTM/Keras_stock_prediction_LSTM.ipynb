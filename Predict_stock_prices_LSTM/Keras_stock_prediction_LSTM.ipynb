{
 "cells": [
  {
   "cell_type": "markdown",
   "metadata": {
    "collapsed": false,
    "deletable": true,
    "editable": true
   },
   "source": [
    "# Amazon stock 'Close' value prediction"
   ]
  },
  {
   "cell_type": "code",
   "execution_count": 100,
   "metadata": {
    "collapsed": false,
    "deletable": true,
    "editable": true
   },
   "outputs": [],
   "source": [
    "import math, time\n",
    "import datetime as dt\n",
    "\n",
    "import matplotlib.pyplot as plt\n",
    "import pandas as pd\n",
    "import pandas_datareader.data as web\n",
    "import numpy as np\n",
    "\n",
    "import keras\n",
    "from keras.initializers import glorot_uniform\n",
    "from keras.models import Sequential\n",
    "from keras.layers.core import Dense, Dropout, Activation\n",
    "from keras.layers.recurrent import LSTM\n"
   ]
  },
  {
   "cell_type": "code",
   "execution_count": 101,
   "metadata": {
    "collapsed": false,
    "deletable": true,
    "editable": true
   },
   "outputs": [
    {
     "data": {
      "application/javascript": [
       "//Creating shortcut 'r' to run all the below cells\n",
       "Jupyter.keyboard_manager.command_shortcuts.add_shortcut('r', {\n",
       "    help : 'run below cells',\n",
       "    help_index : 'zz',\n",
       "    handler : function (event) {\n",
       "        IPython.notebook.execute_cells_below();\n",
       "        return false;\n",
       "    }}\n",
       ");\n",
       "\n",
       "//Creating shortcut 'a' to run all the cells\n",
       "Jupyter.keyboard_manager.command_shortcuts.add_shortcut('a', {\n",
       "    help : 'run all cells',\n",
       "    help_index : 'zz',\n",
       "    handler : function (event) {\n",
       "        IPython.notebook.execute_all_cells();\n",
       "        return false;\n",
       "    }}\n",
       ");"
      ],
      "text/plain": [
       "<IPython.core.display.Javascript object>"
      ]
     },
     "metadata": {},
     "output_type": "display_data"
    }
   ],
   "source": [
    "%%javascript\n",
    "//Creating shortcut 'r' to run all the below cells\n",
    "Jupyter.keyboard_manager.command_shortcuts.add_shortcut('r', {\n",
    "    help : 'run below cells',\n",
    "    help_index : 'zz',\n",
    "    handler : function (event) {\n",
    "        IPython.notebook.execute_cells_below();\n",
    "        return false;\n",
    "    }}\n",
    ");\n",
    "\n",
    "//Creating shortcut 'l' to run all the cells\n",
    "Jupyter.keyboard_manager.command_shortcuts.add_shortcut('l', {\n",
    "    help : 'run all cells',\n",
    "    help_index : 'zz',\n",
    "    handler : function (event) {\n",
    "        IPython.notebook.execute_all_cells();\n",
    "        return false;\n",
    "    }}\n",
    ");"
   ]
  },
  {
   "cell_type": "markdown",
   "metadata": {
    "deletable": true,
    "editable": true
   },
   "source": [
    "## Info on pandas_datareader\n",
    "\n",
    "def DataReader(name, data_source=None, start=None, end=None,\n",
    "               retry_count=3, pause=0.001, session=None, access_key=None):\n",
    "    <br><br>\n",
    "    \n",
    "    Imports data from a number of online sources.\n",
    "    Currently supports Yahoo! Finance, Google Finance, St. Louis FED (FRED),\n",
    "    Kenneth French's data library, and the SEC's EDGAR Index.\n",
    "    Parameters\n",
    "    ----------\n",
    "    name : str or list of strs\n",
    "        the name of the dataset. Some data sources (yahoo, google, fred) will\n",
    "        accept a list of names.\n",
    "    data_source: {str, None}\n",
    "        the data source (\"yahoo\", \"yahoo-actions\", \"yahoo-dividends\",\n",
    "        \"google\", \"fred\", \"ff\", or \"edgar-index\")\n",
    "    start : {datetime, None}\n",
    "        left boundary for range (defaults to 1/1/2010)\n",
    "    end : {datetime, None}\n",
    "        right boundary for range (defaults to today)\n",
    "    retry_count : {int, 3}\n",
    "        Number of times to retry query request.\n",
    "    pause : {numeric, 0.001}\n",
    "        Time, in seconds, to pause between consecutive queries of chunks. If\n",
    "        single value given for symbol, represents the pause between retries.\n",
    "    session : Session, default None\n",
    "            requests.sessions.Session instance to be used\n",
    "    Examples\n",
    "    ----------\n",
    "    \n",
    "    Data from Yahoo! Finance\n",
    "    gs = DataReader(\"GS\", \"yahoo\")\n",
    "    \n",
    "    Corporate Actions (Dividend and Split Data)\n",
    "    with ex-dates from Yahoo! Finance\n",
    "    gs = DataReader(\"GS\", \"yahoo-actions\")\n",
    "    \n",
    "    Data from Google Finance\n",
    "    aapl = DataReader(\"AAPL\", \"google\")\n",
    "    \n",
    "    Data from FRED\n",
    "    vix = DataReader(\"VIXCLS\", \"fred\")\n",
    "    \n",
    "    Data from Fama/French\n",
    "    ff = DataReader(\"F-F_Research_Data_Factors\", \"famafrench\")\n",
    "    ff = DataReader(\"F-F_Research_Data_Factors_weekly\", \"famafrench\")\n",
    "    ff = DataReader(\"6_Portfolios_2x3\", \"famafrench\")\n",
    "    ff = DataReader(\"F-F_ST_Reversal_Factor\", \"famafrench\")\n",
    "    \n",
    "    Data from EDGAR index\n",
    "    ed = DataReader(\"full\", \"edgar-index\")\n",
    "    ed2 = DataReader(\"daily\", \"edgar-index\")"
   ]
  },
  {
   "cell_type": "markdown",
   "metadata": {
    "deletable": true,
    "editable": true
   },
   "source": [
    "## Loading Amazon stock data from google.com"
   ]
  },
  {
   "cell_type": "code",
   "execution_count": 102,
   "metadata": {
    "collapsed": false,
    "deletable": true,
    "editable": true
   },
   "outputs": [
    {
     "data": {
      "text/html": [
       "<div>\n",
       "<table border=\"1\" class=\"dataframe\">\n",
       "  <thead>\n",
       "    <tr style=\"text-align: right;\">\n",
       "      <th></th>\n",
       "      <th>Open</th>\n",
       "      <th>High</th>\n",
       "      <th>Close</th>\n",
       "    </tr>\n",
       "  </thead>\n",
       "  <tbody>\n",
       "    <tr>\n",
       "      <th>0</th>\n",
       "      <td>11.14</td>\n",
       "      <td>11.17</td>\n",
       "      <td>10.46</td>\n",
       "    </tr>\n",
       "    <tr>\n",
       "      <th>1</th>\n",
       "      <td>10.58</td>\n",
       "      <td>10.65</td>\n",
       "      <td>9.95</td>\n",
       "    </tr>\n",
       "    <tr>\n",
       "      <th>2</th>\n",
       "      <td>10.10</td>\n",
       "      <td>10.30</td>\n",
       "      <td>10.12</td>\n",
       "    </tr>\n",
       "    <tr>\n",
       "      <th>3</th>\n",
       "      <td>10.32</td>\n",
       "      <td>11.04</td>\n",
       "      <td>10.53</td>\n",
       "    </tr>\n",
       "    <tr>\n",
       "      <th>4</th>\n",
       "      <td>10.54</td>\n",
       "      <td>10.83</td>\n",
       "      <td>10.08</td>\n",
       "    </tr>\n",
       "  </tbody>\n",
       "</table>\n",
       "</div>"
      ],
      "text/plain": [
       "    Open   High  Close\n",
       "0  11.14  11.17  10.46\n",
       "1  10.58  10.65   9.95\n",
       "2  10.10  10.30  10.12\n",
       "3  10.32  11.04  10.53\n",
       "4  10.54  10.83  10.08"
      ]
     },
     "execution_count": 102,
     "metadata": {},
     "output_type": "execute_result"
    }
   ],
   "source": [
    "stock_name = 'AMZN'\n",
    "start = dt.datetime(1995,1,1)\n",
    "end   = dt.date.today()\n",
    "df = web.DataReader(stock_name, 'google', start, end)\n",
    "df.to_csv('%s_data.csv'%stock_name, header=True, index=False)\n",
    "df = pd.read_csv('%s_data.csv'%stock_name)\n",
    "\n",
    "# Dropping all columns except 'Open','High' and 'Close'\n",
    "df.drop(['Low','Volume'], axis = 1, inplace=True)\n",
    "df.head()"
   ]
  },
  {
   "cell_type": "markdown",
   "metadata": {
    "deletable": true,
    "editable": true
   },
   "source": [
    "## Normalisation"
   ]
  },
  {
   "cell_type": "code",
   "execution_count": 103,
   "metadata": {
    "collapsed": false,
    "deletable": true,
    "editable": true
   },
   "outputs": [
    {
     "data": {
      "text/html": [
       "<div>\n",
       "<table border=\"1\" class=\"dataframe\">\n",
       "  <thead>\n",
       "    <tr style=\"text-align: right;\">\n",
       "      <th></th>\n",
       "      <th>Open</th>\n",
       "      <th>High</th>\n",
       "      <th>Close</th>\n",
       "    </tr>\n",
       "  </thead>\n",
       "  <tbody>\n",
       "    <tr>\n",
       "      <th>0</th>\n",
       "      <td>1.012727</td>\n",
       "      <td>1.015455</td>\n",
       "      <td>0.950909</td>\n",
       "    </tr>\n",
       "    <tr>\n",
       "      <th>1</th>\n",
       "      <td>0.961818</td>\n",
       "      <td>0.968182</td>\n",
       "      <td>0.904545</td>\n",
       "    </tr>\n",
       "    <tr>\n",
       "      <th>2</th>\n",
       "      <td>0.918182</td>\n",
       "      <td>0.936364</td>\n",
       "      <td>0.920000</td>\n",
       "    </tr>\n",
       "    <tr>\n",
       "      <th>3</th>\n",
       "      <td>0.938182</td>\n",
       "      <td>1.003636</td>\n",
       "      <td>0.957273</td>\n",
       "    </tr>\n",
       "    <tr>\n",
       "      <th>4</th>\n",
       "      <td>0.958182</td>\n",
       "      <td>0.984545</td>\n",
       "      <td>0.916364</td>\n",
       "    </tr>\n",
       "  </tbody>\n",
       "</table>\n",
       "</div>"
      ],
      "text/plain": [
       "       Open      High     Close\n",
       "0  1.012727  1.015455  0.950909\n",
       "1  0.961818  0.968182  0.904545\n",
       "2  0.918182  0.936364  0.920000\n",
       "3  0.938182  1.003636  0.957273\n",
       "4  0.958182  0.984545  0.916364"
      ]
     },
     "execution_count": 103,
     "metadata": {},
     "output_type": "execute_result"
    }
   ],
   "source": [
    "#Method1 - Division by 10\n",
    "df = df/(10^(len(str(df.iloc[0,0]).split('.')[0])-1))\n",
    "#Method2 - Division by 1st value\n",
    "# df = df/df.iloc[0,0]\n",
    "df.head()"
   ]
  },
  {
   "cell_type": "code",
   "execution_count": 104,
   "metadata": {
    "collapsed": false,
    "deletable": true,
    "editable": true
   },
   "outputs": [],
   "source": [
    "def load_data(stock, seq_len):\n",
    "    amount_of_features = len(stock.columns)\n",
    "    data = stock.as_matrix() #pd.DataFrame(stock)\n",
    "    sequence_length = seq_len + 1\n",
    "    result = []\n",
    "    for index in range(len(data) - sequence_length):\n",
    "        result.append(data[index: index + sequence_length])\n",
    "\n",
    "    result = np.array(result)\n",
    "    row = int(round(0.9 * result.shape[0]))\n",
    "    train = result[:row, :]\n",
    "    x_train = train[:, :-1]\n",
    "    y_train = train[:, -1][:,-1]\n",
    "    x_test = result[row:, :-1]\n",
    "    y_test = result[row:, -1][:,-1]\n",
    "\n",
    "    x_train = np.reshape(x_train, (x_train.shape[0], x_train.shape[1], amount_of_features))\n",
    "    x_test = np.reshape(x_test, (x_test.shape[0], x_test.shape[1], amount_of_features))  \n",
    "\n",
    "    return [x_train, y_train, x_test, y_test]"
   ]
  },
  {
   "cell_type": "markdown",
   "metadata": {
    "deletable": true,
    "editable": true
   },
   "source": [
    "## Building model functions"
   ]
  },
  {
   "cell_type": "code",
   "execution_count": 116,
   "metadata": {
    "collapsed": false,
    "deletable": true,
    "editable": true
   },
   "outputs": [],
   "source": [
    "def build_model(layers):\n",
    "    d = 0.2\n",
    "    init = glorot_uniform(seed = 69)\n",
    "\n",
    "    model = Sequential()\n",
    "    model.add(LSTM(32, input_shape=(layers[0], layers[1]), return_sequences=True, kernel_initializer = init))\n",
    "    model.add(Dropout(d))\n",
    "    model.add(LSTM(32, return_sequences=False, kernel_initializer = init))\n",
    "    model.add(Dropout(d))\n",
    "    model.add(Dense(8,kernel_initializer=init ,activation='relu'))        \n",
    "    model.add(Dense(1,kernel_initializer= init ,activation='linear'))\n",
    "    model.compile(loss='mse',optimizer='adam',metrics=['accuracy'])\n",
    "    return model"
   ]
  },
  {
   "cell_type": "markdown",
   "metadata": {
    "deletable": true,
    "editable": true
   },
   "source": [
    "## Setting X and Y for training and testing"
   ]
  },
  {
   "cell_type": "code",
   "execution_count": 117,
   "metadata": {
    "collapsed": false,
    "deletable": true,
    "editable": true,
    "scrolled": true
   },
   "outputs": [
    {
     "name": "stdout",
     "output_type": "stream",
     "text": [
      "X_train (3579, 22, 3)\n",
      "y_train (3579,)\n",
      "X_test (398, 22, 3)\n",
      "y_test (398,)\n"
     ]
    }
   ],
   "source": [
    "window = 22\n",
    "X_train, y_train, X_test, y_test = load_data(df[::-1], window)\n",
    "print(\"X_train\", X_train.shape)\n",
    "print(\"y_train\", y_train.shape)\n",
    "print(\"X_test\", X_test.shape)\n",
    "print(\"y_test\", y_test.shape)"
   ]
  },
  {
   "cell_type": "markdown",
   "metadata": {
    "deletable": true,
    "editable": true
   },
   "source": [
    "## Loading the model sequence structure"
   ]
  },
  {
   "cell_type": "code",
   "execution_count": 118,
   "metadata": {
    "collapsed": false,
    "deletable": true,
    "editable": true
   },
   "outputs": [],
   "source": [
    "model = build_model([window, 3])"
   ]
  },
  {
   "cell_type": "markdown",
   "metadata": {
    "deletable": true,
    "editable": true
   },
   "source": [
    "## Executing the model & RMS/RMSE results"
   ]
  },
  {
   "cell_type": "code",
   "execution_count": 119,
   "metadata": {
    "collapsed": false,
    "deletable": true,
    "editable": true
   },
   "outputs": [
    {
     "name": "stdout",
     "output_type": "stream",
     "text": [
      "Train on 3579 samples, validate on 398 samples\n",
      "Epoch 1/20\n",
      "12s - loss: 498.0245 - acc: 2.7941e-04 - val_loss: 0.0409 - val_acc: 0.0025\n",
      "Epoch 2/20\n",
      "8s - loss: 184.0424 - acc: 2.7941e-04 - val_loss: 0.1211 - val_acc: 0.0025\n",
      "Epoch 3/20\n",
      "8s - loss: 76.7120 - acc: 0.0000e+00 - val_loss: 0.0523 - val_acc: 0.0025\n",
      "Epoch 4/20\n",
      "8s - loss: 35.3480 - acc: 2.7941e-04 - val_loss: 0.0578 - val_acc: 0.0025\n",
      "Epoch 5/20\n",
      "8s - loss: 18.9509 - acc: 5.5882e-04 - val_loss: 0.1416 - val_acc: 0.0025\n",
      "Epoch 6/20\n",
      "8s - loss: 14.5626 - acc: 2.7941e-04 - val_loss: 0.1997 - val_acc: 0.0025\n",
      "Epoch 7/20\n",
      "8s - loss: 12.8748 - acc: 5.5882e-04 - val_loss: 0.2313 - val_acc: 0.0025\n",
      "Epoch 8/20\n",
      "8s - loss: 12.1128 - acc: 2.7941e-04 - val_loss: 0.0312 - val_acc: 0.0025\n",
      "Epoch 9/20\n",
      "9s - loss: 11.5106 - acc: 0.0011 - val_loss: 0.2127 - val_acc: 0.0025\n",
      "Epoch 10/20\n",
      "8s - loss: 10.9532 - acc: 0.0011 - val_loss: 0.0366 - val_acc: 0.0025\n",
      "Epoch 11/20\n",
      "8s - loss: 10.7260 - acc: 8.3822e-04 - val_loss: 0.0546 - val_acc: 0.0025\n",
      "Epoch 12/20\n",
      "9s - loss: 9.9576 - acc: 8.3822e-04 - val_loss: 0.0567 - val_acc: 0.0025\n",
      "Epoch 13/20\n",
      "8s - loss: 9.8427 - acc: 8.3822e-04 - val_loss: 0.0598 - val_acc: 0.0025\n",
      "Epoch 14/20\n",
      "8s - loss: 10.4278 - acc: 0.0011 - val_loss: 0.0893 - val_acc: 0.0025\n",
      "Epoch 15/20\n",
      "8s - loss: 9.3063 - acc: 2.7941e-04 - val_loss: 0.0575 - val_acc: 0.0025\n",
      "Epoch 16/20\n",
      "8s - loss: 8.2982 - acc: 0.0011 - val_loss: 0.0710 - val_acc: 0.0025\n",
      "Epoch 17/20\n",
      "8s - loss: 9.3737 - acc: 8.3822e-04 - val_loss: 0.1267 - val_acc: 0.0025\n",
      "Epoch 18/20\n",
      "8s - loss: 8.9665 - acc: 5.5882e-04 - val_loss: 0.0533 - val_acc: 0.0025\n",
      "Epoch 19/20\n",
      "8s - loss: 8.9243 - acc: 8.3822e-04 - val_loss: 0.0605 - val_acc: 0.0025\n",
      "Epoch 20/20\n",
      "8s - loss: 8.8979 - acc: 0.0014 - val_loss: 0.0121 - val_acc: 0.0025\n",
      "\n",
      "Time taken for training: 3.06 minutes\n"
     ]
    }
   ],
   "source": [
    "stop = keras.callbacks.EarlyStopping(monitor='val_loss', min_delta= 0.5 , patience=3, verbose=2, mode='auto')\n",
    "start_time = time.time()\n",
    "\n",
    "model.fit(\n",
    "    X_train,\n",
    "    y_train,\n",
    "    batch_size=32,\n",
    "    epochs=20,\n",
    "    validation_data=(X_test, y_test),\n",
    "#     validation_split=0.1,\n",
    "#     callbacks = [stop],\n",
    "    verbose = 2)\n",
    "\n",
    "print('\\nTime taken for training: %.2f minutes'%((time.time()-start_time)/60))"
   ]
  },
  {
   "cell_type": "code",
   "execution_count": 120,
   "metadata": {
    "collapsed": false,
    "deletable": true,
    "editable": true
   },
   "outputs": [
    {
     "name": "stdout",
     "output_type": "stream",
     "text": [
      "Train Score: 2.74 MSE (1.66 RMSE)\n",
      "Test Score: 0.01 MSE (0.11 RMSE)\n"
     ]
    }
   ],
   "source": [
    "trainScore = model.evaluate(X_train, y_train, verbose=0)\n",
    "print('Train Score: %.2f MSE (%.2f RMSE)' % (trainScore[0], math.sqrt(trainScore[0])))\n",
    "\n",
    "testScore = model.evaluate(X_test, y_test, verbose=0)\n",
    "print('Test Score: %.2f MSE (%.2f RMSE)' % (testScore[0], math.sqrt(testScore[0])))"
   ]
  },
  {
   "cell_type": "code",
   "execution_count": 121,
   "metadata": {
    "collapsed": false,
    "deletable": true,
    "editable": true
   },
   "outputs": [],
   "source": [
    "# print(X_test[-1])\n",
    "diff=[]\n",
    "ratio=[]\n",
    "p = model.predict(X_test)\n",
    "for u in range(len(y_test)):\n",
    "    pr = p[u][0]\n",
    "    ratio.append((y_test[u]/pr)-1)\n",
    "    diff.append(abs(y_test[u]- pr))\n",
    "    #print(u, y_test[u], pr, (y_test[u]/pr)-1, abs(y_test[u]- pr))"
   ]
  },
  {
   "cell_type": "markdown",
   "metadata": {
    "deletable": true,
    "editable": true
   },
   "source": [
    "## Predictions vs Real results"
   ]
  },
  {
   "cell_type": "code",
   "execution_count": 122,
   "metadata": {
    "collapsed": false,
    "deletable": true,
    "editable": true
   },
   "outputs": [
    {
     "data": {
      "image/png": "[encoded data removed]",
      "text/plain": [
       "<matplotlib.figure.Figure at 0x176a7335940>"
      ]
     },
     "metadata": {},
     "output_type": "display_data"
    }
   ],
   "source": [
    "plt.plot(p,color='red', label='prediction')\n",
    "plt.plot(y_test,color='blue', label='y_test')\n",
    "plt.legend(loc='upper left')\n",
    "plt.show()"
   ]
  },
  {
   "cell_type": "markdown",
   "metadata": {
    "collapsed": true,
    "deletable": true,
    "editable": true
   },
   "source": [
    "## Play with the layer sizes to get more accuracy and also check for training time"
   ]
  }
 ],
 "metadata": {
  "anaconda-cloud": {},
  "kernelspec": {
   "display_name": "Python 3",
   "language": "python",
   "name": "python3"
  },
  "language_info": {
   "codemirror_mode": {
    "name": "ipython",
    "version": 3
   },
   "file_extension": ".py",
   "mimetype": "text/x-python",
   "name": "python",
   "nbconvert_exporter": "python",
   "pygments_lexer": "ipython3",
   "version": "3.5.3"
  }
 },
 "nbformat": 4,
 "nbformat_minor": 1
}
